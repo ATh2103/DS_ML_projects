{
 "cells": [
  {
   "cell_type": "code",
   "execution_count": 1,
   "metadata": {},
   "outputs": [],
   "source": [
    "import numpy as np\n",
    "import heapq\n",
    "import matplotlib.pyplot as plt\n",
    "from nltk.tokenize import RegexpTokenizer\n",
    "from nltk.tokenize import word_tokenize\n",
    "from keras.models import Sequential, load_model\n",
    "from keras.layers.core import Dense, Activation\n",
    "from keras.layers import LSTM\n",
    "import pickle\n",
    "from tensorflow.keras.optimizers import RMSprop"
   ]
  },
  {
   "cell_type": "code",
   "execution_count": 2,
   "metadata": {},
   "outputs": [
    {
     "name": "stdout",
     "output_type": "stream",
     "text": [
      "['phone call' 'meeting' 'face-to-face conversation' 'general chatting'\n",
      " 'presentation' 'training']\n"
     ]
    }
   ],
   "source": [
    "# Import the data set, and get all sentences\n",
    "import pandas as pd\n",
    "\n",
    "df = pd.read_json('datasets/train.json')\n",
    "print(df['tag'].unique())"
   ]
  },
  {
   "cell_type": "code",
   "execution_count": 3,
   "metadata": {},
   "outputs": [
    {
     "data": {
      "text/html": [
       "<div>\n",
       "<style scoped>\n",
       "    .dataframe tbody tr th:only-of-type {\n",
       "        vertical-align: middle;\n",
       "    }\n",
       "\n",
       "    .dataframe tbody tr th {\n",
       "        vertical-align: top;\n",
       "    }\n",
       "\n",
       "    .dataframe thead th {\n",
       "        text-align: right;\n",
       "    }\n",
       "</style>\n",
       "<table border=\"1\" class=\"dataframe\">\n",
       "  <thead>\n",
       "    <tr style=\"text-align: right;\">\n",
       "      <th></th>\n",
       "      <th>id</th>\n",
       "      <th>tag</th>\n",
       "      <th>title</th>\n",
       "      <th>original_language</th>\n",
       "      <th>conversation</th>\n",
       "    </tr>\n",
       "  </thead>\n",
       "  <tbody>\n",
       "    <tr>\n",
       "      <th>0</th>\n",
       "      <td>190329_J07_03</td>\n",
       "      <td>phone call</td>\n",
       "      <td>伝言への折り返し電話　打ち合わせ日程調整</td>\n",
       "      <td>ja</td>\n",
       "      <td>[{'no': 1, 'ja_speaker': '土井さん', 'en_speaker':...</td>\n",
       "    </tr>\n",
       "    <tr>\n",
       "      <th>1</th>\n",
       "      <td>190329_J06_11</td>\n",
       "      <td>meeting</td>\n",
       "      <td>株主総会に関する役員向け説明（２）</td>\n",
       "      <td>ja</td>\n",
       "      <td>[{'no': 1, 'ja_speaker': '高田さん', 'en_speaker':...</td>\n",
       "    </tr>\n",
       "    <tr>\n",
       "      <th>2</th>\n",
       "      <td>190329_J06_10</td>\n",
       "      <td>meeting</td>\n",
       "      <td>株主総会に関する役員向け説明（１）</td>\n",
       "      <td>ja</td>\n",
       "      <td>[{'no': 1, 'ja_speaker': '友井さん', 'en_speaker':...</td>\n",
       "    </tr>\n",
       "    <tr>\n",
       "      <th>3</th>\n",
       "      <td>190329_J06_09</td>\n",
       "      <td>face-to-face conversation</td>\n",
       "      <td>信託銀行から株主名簿を受領</td>\n",
       "      <td>ja</td>\n",
       "      <td>[{'no': 1, 'ja_speaker': '高田さん', 'en_speaker':...</td>\n",
       "    </tr>\n",
       "    <tr>\n",
       "      <th>4</th>\n",
       "      <td>190329_J06_08</td>\n",
       "      <td>face-to-face conversation</td>\n",
       "      <td>株主総会への臨場要請</td>\n",
       "      <td>ja</td>\n",
       "      <td>[{'no': 1, 'ja_speaker': '高田さん', 'en_speaker':...</td>\n",
       "    </tr>\n",
       "    <tr>\n",
       "      <th>...</th>\n",
       "      <td>...</td>\n",
       "      <td>...</td>\n",
       "      <td>...</td>\n",
       "      <td>...</td>\n",
       "      <td>...</td>\n",
       "    </tr>\n",
       "    <tr>\n",
       "      <th>665</th>\n",
       "      <td>190315_E001_05</td>\n",
       "      <td>presentation</td>\n",
       "      <td>Presentation: Company introduction</td>\n",
       "      <td>en</td>\n",
       "      <td>[{'no': 1, 'en_speaker': 'Mr. Asano Yuki', 'ja...</td>\n",
       "    </tr>\n",
       "    <tr>\n",
       "      <th>666</th>\n",
       "      <td>190315_E001_04</td>\n",
       "      <td>training</td>\n",
       "      <td>Training: training a new employee</td>\n",
       "      <td>en</td>\n",
       "      <td>[{'no': 1, 'en_speaker': 'Mr. Ben Sherman', 'j...</td>\n",
       "    </tr>\n",
       "    <tr>\n",
       "      <th>667</th>\n",
       "      <td>190315_E001_03</td>\n",
       "      <td>general chatting</td>\n",
       "      <td>General chatting: Company Christmas party</td>\n",
       "      <td>en</td>\n",
       "      <td>[{'no': 1, 'en_speaker': 'Ms. Amy Lin', 'ja_sp...</td>\n",
       "    </tr>\n",
       "    <tr>\n",
       "      <th>668</th>\n",
       "      <td>190315_E001_02</td>\n",
       "      <td>phone call</td>\n",
       "      <td>Phone call: requesting a lunch meeting.</td>\n",
       "      <td>en</td>\n",
       "      <td>[{'no': 1, 'en_speaker': 'Mr. John Smith', 'ja...</td>\n",
       "    </tr>\n",
       "    <tr>\n",
       "      <th>669</th>\n",
       "      <td>190315_E001_01</td>\n",
       "      <td>meeting</td>\n",
       "      <td>Meeting: Wrap-up meeting (after meeting a star...</td>\n",
       "      <td>en</td>\n",
       "      <td>[{'no': 1, 'en_speaker': 'Mr. Bob Cook', 'ja_s...</td>\n",
       "    </tr>\n",
       "  </tbody>\n",
       "</table>\n",
       "<p>670 rows × 5 columns</p>\n",
       "</div>"
      ],
      "text/plain": [
       "                 id  ...                                       conversation\n",
       "0     190329_J07_03  ...  [{'no': 1, 'ja_speaker': '土井さん', 'en_speaker':...\n",
       "1     190329_J06_11  ...  [{'no': 1, 'ja_speaker': '高田さん', 'en_speaker':...\n",
       "2     190329_J06_10  ...  [{'no': 1, 'ja_speaker': '友井さん', 'en_speaker':...\n",
       "3     190329_J06_09  ...  [{'no': 1, 'ja_speaker': '高田さん', 'en_speaker':...\n",
       "4     190329_J06_08  ...  [{'no': 1, 'ja_speaker': '高田さん', 'en_speaker':...\n",
       "..              ...  ...                                                ...\n",
       "665  190315_E001_05  ...  [{'no': 1, 'en_speaker': 'Mr. Asano Yuki', 'ja...\n",
       "666  190315_E001_04  ...  [{'no': 1, 'en_speaker': 'Mr. Ben Sherman', 'j...\n",
       "667  190315_E001_03  ...  [{'no': 1, 'en_speaker': 'Ms. Amy Lin', 'ja_sp...\n",
       "668  190315_E001_02  ...  [{'no': 1, 'en_speaker': 'Mr. John Smith', 'ja...\n",
       "669  190315_E001_01  ...  [{'no': 1, 'en_speaker': 'Mr. Bob Cook', 'ja_s...\n",
       "\n",
       "[670 rows x 5 columns]"
      ]
     },
     "execution_count": 3,
     "metadata": {},
     "output_type": "execute_result"
    }
   ],
   "source": [
    "df"
   ]
  },
  {
   "cell_type": "code",
   "execution_count": 4,
   "metadata": {},
   "outputs": [],
   "source": [
    "\n",
    "df_convs = pd.concat([pd.json_normalize(df['conversation'][i]) for i in range(len(df))],ignore_index=True)\n",
    "trainen = df_convs[\"en_sentence\"].values.tolist()\n",
    "trainja = df_convs[\"ja_sentence\"].values.tolist()"
   ]
  },
  {
   "cell_type": "code",
   "execution_count": 5,
   "metadata": {},
   "outputs": [
    {
     "data": {
      "text/html": [
       "<div>\n",
       "<style scoped>\n",
       "    .dataframe tbody tr th:only-of-type {\n",
       "        vertical-align: middle;\n",
       "    }\n",
       "\n",
       "    .dataframe tbody tr th {\n",
       "        vertical-align: top;\n",
       "    }\n",
       "\n",
       "    .dataframe thead th {\n",
       "        text-align: right;\n",
       "    }\n",
       "</style>\n",
       "<table border=\"1\" class=\"dataframe\">\n",
       "  <thead>\n",
       "    <tr style=\"text-align: right;\">\n",
       "      <th></th>\n",
       "      <th>no</th>\n",
       "      <th>ja_speaker</th>\n",
       "      <th>en_speaker</th>\n",
       "      <th>ja_sentence</th>\n",
       "      <th>en_sentence</th>\n",
       "    </tr>\n",
       "  </thead>\n",
       "  <tbody>\n",
       "    <tr>\n",
       "      <th>0</th>\n",
       "      <td>1</td>\n",
       "      <td>土井さん</td>\n",
       "      <td>Doi-san</td>\n",
       "      <td>はい、K社システム開発部です。</td>\n",
       "      <td>Hi this is the systems development department ...</td>\n",
       "    </tr>\n",
       "    <tr>\n",
       "      <th>1</th>\n",
       "      <td>2</td>\n",
       "      <td>高市さん</td>\n",
       "      <td>Takaichi-san</td>\n",
       "      <td>H社の高市と申します。</td>\n",
       "      <td>My name is Takaichi from Company H.</td>\n",
       "    </tr>\n",
       "    <tr>\n",
       "      <th>2</th>\n",
       "      <td>3</td>\n",
       "      <td>高市さん</td>\n",
       "      <td>Takaichi-san</td>\n",
       "      <td>いつもお世話になっております。</td>\n",
       "      <td>Thank you as always.</td>\n",
       "    </tr>\n",
       "    <tr>\n",
       "      <th>3</th>\n",
       "      <td>4</td>\n",
       "      <td>土井さん</td>\n",
       "      <td>Doi-san</td>\n",
       "      <td>こちらこそ、お世話になっております。</td>\n",
       "      <td>Thank you as always as well.</td>\n",
       "    </tr>\n",
       "    <tr>\n",
       "      <th>4</th>\n",
       "      <td>5</td>\n",
       "      <td>高市さん</td>\n",
       "      <td>Takaichi-san</td>\n",
       "      <td>稲田さんはいらっしゃいますか？</td>\n",
       "      <td>Is Inada-san there?</td>\n",
       "    </tr>\n",
       "    <tr>\n",
       "      <th>...</th>\n",
       "      <td>...</td>\n",
       "      <td>...</td>\n",
       "      <td>...</td>\n",
       "      <td>...</td>\n",
       "      <td>...</td>\n",
       "    </tr>\n",
       "    <tr>\n",
       "      <th>19995</th>\n",
       "      <td>28</td>\n",
       "      <td>ボブ クックさん</td>\n",
       "      <td>Mr. Bob Cook</td>\n",
       "      <td>今日の5時までに書き上げます。</td>\n",
       "      <td>I'll finish it by 5 o'clock today.</td>\n",
       "    </tr>\n",
       "    <tr>\n",
       "      <th>19996</th>\n",
       "      <td>29</td>\n",
       "      <td>アル ジョンソンさん</td>\n",
       "      <td>Mr. Al Johnson</td>\n",
       "      <td>完璧だね。</td>\n",
       "      <td>Perfect.</td>\n",
       "    </tr>\n",
       "    <tr>\n",
       "      <th>19997</th>\n",
       "      <td>30</td>\n",
       "      <td>アル ジョンソンさん</td>\n",
       "      <td>Mr. Al Johnson</td>\n",
       "      <td>明日ゼネラルマネージャーにA社の件を話しておきますね。</td>\n",
       "      <td>I'll go talk to the general manager tomorrow t...</td>\n",
       "    </tr>\n",
       "    <tr>\n",
       "      <th>19998</th>\n",
       "      <td>31</td>\n",
       "      <td>アル ジョンソンさん</td>\n",
       "      <td>Mr. Al Johnson</td>\n",
       "      <td>彼がA社を気に入ってくれて、投資できる方向に決まることを願いましょう。</td>\n",
       "      <td>Hopefully he will like Company A and make the ...</td>\n",
       "    </tr>\n",
       "    <tr>\n",
       "      <th>19999</th>\n",
       "      <td>32</td>\n",
       "      <td>ボブ クックさん</td>\n",
       "      <td>Mr. Bob Cook</td>\n",
       "      <td>そうですね。</td>\n",
       "      <td>I hope so too.</td>\n",
       "    </tr>\n",
       "  </tbody>\n",
       "</table>\n",
       "<p>20000 rows × 5 columns</p>\n",
       "</div>"
      ],
      "text/plain": [
       "       no  ...                                        en_sentence\n",
       "0       1  ...  Hi this is the systems development department ...\n",
       "1       2  ...                My name is Takaichi from Company H.\n",
       "2       3  ...                               Thank you as always.\n",
       "3       4  ...                       Thank you as always as well.\n",
       "4       5  ...                                Is Inada-san there?\n",
       "...    ..  ...                                                ...\n",
       "19995  28  ...                 I'll finish it by 5 o'clock today.\n",
       "19996  29  ...                                           Perfect.\n",
       "19997  30  ...  I'll go talk to the general manager tomorrow t...\n",
       "19998  31  ...  Hopefully he will like Company A and make the ...\n",
       "19999  32  ...                                     I hope so too.\n",
       "\n",
       "[20000 rows x 5 columns]"
      ]
     },
     "execution_count": 5,
     "metadata": {},
     "output_type": "execute_result"
    }
   ],
   "source": [
    "df_convs"
   ]
  },
  {
   "cell_type": "code",
   "execution_count": 6,
   "metadata": {},
   "outputs": [
    {
     "data": {
      "text/plain": [
       "20000"
      ]
     },
     "execution_count": 6,
     "metadata": {},
     "output_type": "execute_result"
    }
   ],
   "source": [
    "\n",
    "len(trainen)"
   ]
  },
  {
   "cell_type": "code",
   "execution_count": 7,
   "metadata": {},
   "outputs": [
    {
     "data": {
      "text/plain": [
       "['What do you think about the contents from your perspective, Nose-san?',\n",
       " \"Well the number of shareholders is stable and I don't see any suspicious shareholder's name.\",\n",
       " 'I think we can take a breather?',\n",
       " 'Right.',\n",
       " \"I will take a closer look later but it doesn't seem there are any large concerns from the look of it.\",\n",
       " 'Also, I get the feeling of being pressed with the wave of year end events when I get the register of shareholders.',\n",
       " 'Feeling overwhelmed?',\n",
       " \"Well, it can't be helped.\",\n",
       " \"It's an annual thing but we just have to work hard for the next 2 months and get through it.\",\n",
       " 'I am relying on you Nose-san, seriously.',\n",
       " 'Anyways, I will make a draft of the scenario for the general meeting so can I get you to check it?',\n",
       " \"I will be making this year's version based on last year's scenario.\",\n",
       " \"You don't have to rush that much in terms of time, right?\",\n",
       " 'Yeah, there is the announcement of financial results first.',\n",
       " 'First, the schedule around the general meeting is as shown in this document so I will prepare accordingly.',\n",
       " 'I am thinking of having Nose-san check the required documents once they are done so please help me out.',\n",
       " 'Okay.',\n",
       " 'Also, I also want to adjust the schedule for the rehearsal, questions and answers training and lectures for the executives for the general meeting.',\n",
       " \"If you can narrow down some potential dates earlier, we can do it based on your company's executives availability.\",\n",
       " 'I will check the schedule by the end of tomorrow and contact you, Nose-san.',\n",
       " 'I will be out tomorrow morning.',\n",
       " 'If you send me an email, I can call you after I review it.',\n",
       " 'Thank you very much.',\n",
       " 'Thank you very much for your time out of your busy schedule today.',\n",
       " 'My name is Takada and I am in the Public Relations IR Office of Company I.',\n",
       " 'I am in charge of administration for the general meeting of shareholders this time.',\n",
       " 'Sorry for having you come all the way over here.',\n",
       " 'Not at all.',\n",
       " 'Without further ado, this is the presence request for the general meeting of shareholders.',\n",
       " 'Please review it.',\n",
       " 'Okay.',\n",
       " \"So it starts from 10 o'clock in the morning on Tuesday December 22.\",\n",
       " \"Yes, that's right.\",\n",
       " 'In the past years, how many shareholders attended it?',\n",
       " 'Around ten people.',\n",
       " \"I don't think it's a lot in terms of the number of people.\",\n",
       " 'What about the people on the blacklist.',\n",
       " 'I had checked the register of shareholders received from the trust company but I did not see anyone on the blacklist on the register.',\n",
       " 'I see.',\n",
       " \"So far, I don't think we have to worry too much.\",\n",
       " 'I hope so.',\n",
       " 'Okay, anyways, we will send 2 police officers from our side to the general meeting of shareholders on the day.',\n",
       " 'Thank you very much.',\n",
       " 'I will have them speak to your reception around 9:30 in the morning.',\n",
       " 'Okay.',\n",
       " 'I will be stationed at the reception ten minutes before the start of the general meeting so please let me know.',\n",
       " 'Okay, got it.',\n",
       " 'Alright, then I look forward to working with you on the day.',\n",
       " 'Thank you for calling, this is the Judicial Scrivener office T.',\n",
       " 'Thank you as always, my name is Takada from Company I.',\n",
       " 'Thank you.',\n",
       " 'Sorry but is Mr. Takanashi in today?',\n",
       " 'Please wait a moment.',\n",
       " 'Thank you for holding, this is Takanashi.',\n",
       " 'Thank you as always, this is Takada.',\n",
       " \"I'm calling today in regards to a registration request.\",\n",
       " 'I exercised the stock option last month and the stock increased.',\n",
       " \"And I'd like to ask you to do the registration process for changing the total number of stock issued.\",\n",
       " 'Okay.',\n",
       " 'I will send you an email on the details of the number of stock.']"
      ]
     },
     "execution_count": 7,
     "metadata": {},
     "output_type": "execute_result"
    }
   ],
   "source": [
    "trainen[100:160]"
   ]
  },
  {
   "cell_type": "code",
   "execution_count": 8,
   "metadata": {},
   "outputs": [
    {
     "name": "stdout",
     "output_type": "stream",
     "text": [
      "length of the corpus is: : 532978\n"
     ]
    }
   ],
   "source": [
    "#concat all english messages\n",
    "text = ' '.join(trainen[0:10000]) # Out of RAM if we use all the data\n",
    "print('length of the corpus is: :', len(text))"
   ]
  },
  {
   "cell_type": "code",
   "execution_count": 9,
   "metadata": {},
   "outputs": [],
   "source": [
    "\n",
    "# tokenizer\n",
    "tokenizer = RegexpTokenizer(r'\\w+')\n",
    "words = tokenizer.tokenize(text)"
   ]
  },
  {
   "cell_type": "code",
   "execution_count": 10,
   "metadata": {},
   "outputs": [],
   "source": [
    "# get unique words\n",
    "unique_words = np.unique(words)\n",
    "unique_word_index = dict((c, i) for i, c in enumerate(unique_words))\n"
   ]
  },
  {
   "cell_type": "code",
   "execution_count": 13,
   "metadata": {},
   "outputs": [
    {
     "data": {
      "text/plain": [
       "array(['Shanghai', 'She', 'Shibata', 'Shibuya', 'Shiota', 'Shiraishi',\n",
       "       'Shiroki', 'Shirota', 'Shizuo', 'Shodoshima', 'Shop', 'Should',\n",
       "       'Shouldn', 'Shuji', 'Silence', 'Silicone', 'Similar', 'Since',\n",
       "       'Sir', 'Six', 'Skiing', 'Smith', 'So', 'Soji', 'Some', 'Somebody',\n",
       "       'Someone', 'Something', 'Sometimes', 'Somewhere'], dtype='<U16')"
      ]
     },
     "execution_count": 13,
     "metadata": {},
     "output_type": "execute_result"
    }
   ],
   "source": [
    "len(unique_words)\n",
    "unique_words[1000:1030]"
   ]
  },
  {
   "cell_type": "code",
   "execution_count": 14,
   "metadata": {},
   "outputs": [
    {
     "name": "stdout",
     "output_type": "stream",
     "text": [
      "['Hi', 'this', 'is', 'the', 'systems']\n",
      "development\n"
     ]
    }
   ],
   "source": [
    "# model input = prev_words\n",
    "# model output = next_words\n",
    "\n",
    "WORD_LENGTH = 5\n",
    "next_words = []\n",
    "prev_words = []\n",
    "for j in range(len(words) - WORD_LENGTH):\n",
    "     prev_words.append(words[j:j + WORD_LENGTH])\n",
    "     next_words.append(words[j + WORD_LENGTH])\n",
    "print(prev_words[0])\n",
    "print(next_words[0])"
   ]
  },
  {
   "cell_type": "code",
   "execution_count": 15,
   "metadata": {},
   "outputs": [],
   "source": [
    "# convert features into numpy arrays\n",
    "X = np.zeros((len(prev_words), WORD_LENGTH, len(unique_words)), dtype=bool)\n",
    "Y = np.zeros((len(next_words), len(unique_words)), dtype=bool)\n",
    "# prepare word2id index\n",
    "for i, each_words in enumerate(prev_words):\n",
    "   for j, each_word in enumerate(each_words):\n",
    "        X[i, j, unique_word_index[each_word]] = 1\n",
    "   Y[i, unique_word_index[next_words[i]]] = 1\n",
    "word2id = unique_word_index"
   ]
  },
  {
   "cell_type": "code",
   "execution_count": 16,
   "metadata": {},
   "outputs": [],
   "source": [
    "\n",
    "# prepare id2word index ==> for inference\n",
    "id2word = {y:x for x,y in unique_word_index.items()}"
   ]
  },
  {
   "cell_type": "code",
   "execution_count": 41,
   "metadata": {},
   "outputs": [],
   "source": [
    "# build model\n",
    "model = Sequential()\n",
    "model.add(LSTM(128, input_shape=(WORD_LENGTH, len(unique_words))))\n",
    "model.add(Dense(len(unique_words)))\n",
    "model.add(Activation('softmax'))"
   ]
  },
  {
   "cell_type": "code",
   "execution_count": 42,
   "metadata": {},
   "outputs": [
    {
     "name": "stdout",
     "output_type": "stream",
     "text": [
      "Epoch 1/2\n",
      "769/769 [==============================] - 133s 165ms/step - loss: 5.8181 - accuracy: 0.1265 - val_loss: 5.5573 - val_accuracy: 0.1605\n",
      "Epoch 2/2\n",
      "769/769 [==============================] - 133s 173ms/step - loss: 5.3962 - accuracy: 0.1834 - val_loss: 5.9657 - val_accuracy: 0.1754\n"
     ]
    }
   ],
   "source": [
    "# train model\n",
    "optimizer = RMSprop(learning_rate=0.01)\n",
    "model.compile(loss='categorical_crossentropy', optimizer=optimizer, metrics=['accuracy'])\n",
    "history = model.fit(X, Y, validation_split=0.05, batch_size=128, epochs=2, shuffle=True).history\n"
   ]
  },
  {
   "cell_type": "code",
   "execution_count": 31,
   "metadata": {},
   "outputs": [
    {
     "data": {
      "text/plain": [
       "{'loss': [5.823361396789551, 5.431649684906006],\n",
       " 'accuracy': [0.1273365169763565, 0.1803213655948639],\n",
       " 'val_loss': [5.573983192443848, 5.926844120025635],\n",
       " 'val_accuracy': [0.17098145186901093, 0.18411901593208313]}"
      ]
     },
     "execution_count": 31,
     "metadata": {},
     "output_type": "execute_result"
    }
   ],
   "source": [
    "history"
   ]
  },
  {
   "cell_type": "code",
   "execution_count": 32,
   "metadata": {},
   "outputs": [
    {
     "data": {
      "text/plain": [
       "<matplotlib.legend.Legend at 0x1f2a6e484f0>"
      ]
     },
     "execution_count": 32,
     "metadata": {},
     "output_type": "execute_result"
    },
    {
     "data": {
      "image/png": "[encoded data removed]",
      "text/plain": [
       "<Figure size 432x288 with 1 Axes>"
      ]
     },
     "metadata": {
      "needs_background": "light"
     },
     "output_type": "display_data"
    }
   ],
   "source": [
    "# evaluate model\n",
    "plt.plot(history['accuracy'])\n",
    "plt.plot(history['val_accuracy'])\n",
    "plt.title('model accuracy')\n",
    "plt.ylabel('accuracy')\n",
    "plt.xlabel('epoch')\n",
    "plt.legend(['train', 'test'], loc='upper left')"
   ]
  },
  {
   "cell_type": "code",
   "execution_count": 33,
   "metadata": {},
   "outputs": [
    {
     "data": {
      "text/plain": [
       "<matplotlib.legend.Legend at 0x1f2a6f573a0>"
      ]
     },
     "execution_count": 33,
     "metadata": {},
     "output_type": "execute_result"
    },
    {
     "data": {
      "image/png": "[encoded data removed]",
      "text/plain": [
       "<Figure size 432x288 with 1 Axes>"
      ]
     },
     "metadata": {
      "needs_background": "light"
     },
     "output_type": "display_data"
    }
   ],
   "source": [
    "plt.plot(history['loss'])\n",
    "plt.plot(history['val_loss'])\n",
    "plt.title('model loss')\n",
    "plt.ylabel('loss')\n",
    "plt.xlabel('epoch')\n",
    "plt.legend(['train', 'test'], loc='upper left')"
   ]
  },
  {
   "cell_type": "code",
   "execution_count": null,
   "metadata": {},
   "outputs": [],
   "source": []
  }
 ],
 "metadata": {
  "kernelspec": {
   "display_name": "Python 3.9.12 ('base')",
   "language": "python",
   "name": "python3"
  },
  "language_info": {
   "codemirror_mode": {
    "name": "ipython",
    "version": 3
   },
   "file_extension": ".py",
   "mimetype": "text/x-python",
   "name": "python",
   "nbconvert_exporter": "python",
   "pygments_lexer": "ipython3",
   "version": "3.9.12"
  },
  "orig_nbformat": 4,
  "vscode": {
   "interpreter": {
    "hash": "7758e92e9a61d7a3490898707f7eeb937c85e9d1e8d4e877cc6c187218f226d5"
   }
  }
 },
 "nbformat": 4,
 "nbformat_minor": 2
}
